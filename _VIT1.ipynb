{
 "cells": [
  {
   "cell_type": "markdown",
   "metadata": {
    "id": "_3iUAUd2ZMS5"
   },
   "source": [
    "### INSTALLATION OF MODULE"
   ]
  },
  {
   "cell_type": "code",
   "execution_count": null,
   "metadata": {
    "colab": {
     "base_uri": "https://localhost:8080/"
    },
    "id": "20B7Dx-NDwNC",
    "outputId": "0e63035d-9dbf-49ff-9aa0-f34501cf5973"
   },
   "outputs": [
    {
     "name": "stdout",
     "output_type": "stream",
     "text": [
      "Collecting tensorflow==2.8.0\n",
      "  Downloading tensorflow-2.8.0-cp310-cp310-manylinux2010_x86_64.whl (497.6 MB)\n",
      "\u001b[2K     \u001b[90m━━━━━━━━━━━━━━━━━━━━━━━━━━━━━━━━━━━━━━━━\u001b[0m \u001b[32m497.6/497.6 MB\u001b[0m \u001b[31m2.0 MB/s\u001b[0m eta \u001b[36m0:00:00\u001b[0m\n",
      "\u001b[?25hRequirement already satisfied: absl-py>=0.4.0 in /usr/local/lib/python3.10/dist-packages (from tensorflow==2.8.0) (1.4.0)\n",
      "Requirement already satisfied: astunparse>=1.6.0 in /usr/local/lib/python3.10/dist-packages (from tensorflow==2.8.0) (1.6.3)\n",
      "Requirement already satisfied: flatbuffers>=1.12 in /usr/local/lib/python3.10/dist-packages (from tensorflow==2.8.0) (24.3.25)\n",
      "Requirement already satisfied: gast>=0.2.1 in /usr/local/lib/python3.10/dist-packages (from tensorflow==2.8.0) (0.5.4)\n",
      "Requirement already satisfied: google-pasta>=0.1.1 in /usr/local/lib/python3.10/dist-packages (from tensorflow==2.8.0) (0.2.0)\n",
      "Requirement already satisfied: h5py>=2.9.0 in /usr/local/lib/python3.10/dist-packages (from tensorflow==2.8.0) (3.9.0)\n",
      "Collecting keras-preprocessing>=1.1.1 (from tensorflow==2.8.0)\n",
      "  Downloading Keras_Preprocessing-1.1.2-py2.py3-none-any.whl (42 kB)\n",
      "\u001b[2K     \u001b[90m━━━━━━━━━━━━━━━━━━━━━━━━━━━━━━━━━━━━━━━━\u001b[0m \u001b[32m42.6/42.6 kB\u001b[0m \u001b[31m4.8 MB/s\u001b[0m eta \u001b[36m0:00:00\u001b[0m\n",
      "\u001b[?25hRequirement already satisfied: libclang>=9.0.1 in /usr/local/lib/python3.10/dist-packages (from tensorflow==2.8.0) (18.1.1)\n",
      "Requirement already satisfied: numpy>=1.20 in /usr/local/lib/python3.10/dist-packages (from tensorflow==2.8.0) (1.25.2)\n",
      "Requirement already satisfied: opt-einsum>=2.3.2 in /usr/local/lib/python3.10/dist-packages (from tensorflow==2.8.0) (3.3.0)\n",
      "Requirement already satisfied: protobuf>=3.9.2 in /usr/local/lib/python3.10/dist-packages (from tensorflow==2.8.0) (3.20.3)\n",
      "Requirement already satisfied: setuptools in /usr/local/lib/python3.10/dist-packages (from tensorflow==2.8.0) (67.7.2)\n",
      "Requirement already satisfied: six>=1.12.0 in /usr/local/lib/python3.10/dist-packages (from tensorflow==2.8.0) (1.16.0)\n",
      "Requirement already satisfied: termcolor>=1.1.0 in /usr/local/lib/python3.10/dist-packages (from tensorflow==2.8.0) (2.4.0)\n",
      "Requirement already satisfied: typing-extensions>=3.6.6 in /usr/local/lib/python3.10/dist-packages (from tensorflow==2.8.0) (4.10.0)\n",
      "Requirement already satisfied: wrapt>=1.11.0 in /usr/local/lib/python3.10/dist-packages (from tensorflow==2.8.0) (1.14.1)\n",
      "Collecting tensorboard<2.9,>=2.8 (from tensorflow==2.8.0)\n",
      "  Downloading tensorboard-2.8.0-py3-none-any.whl (5.8 MB)\n",
      "\u001b[2K     \u001b[90m━━━━━━━━━━━━━━━━━━━━━━━━━━━━━━━━━━━━━━━━\u001b[0m \u001b[32m5.8/5.8 MB\u001b[0m \u001b[31m22.8 MB/s\u001b[0m eta \u001b[36m0:00:00\u001b[0m\n",
      "\u001b[?25hCollecting tf-estimator-nightly==2.8.0.dev2021122109 (from tensorflow==2.8.0)\n",
      "  Downloading tf_estimator_nightly-2.8.0.dev2021122109-py2.py3-none-any.whl (462 kB)\n",
      "\u001b[2K     \u001b[90m━━━━━━━━━━━━━━━━━━━━━━━━━━━━━━━━━━━━━━━━\u001b[0m \u001b[32m462.5/462.5 kB\u001b[0m \u001b[31m18.8 MB/s\u001b[0m eta \u001b[36m0:00:00\u001b[0m\n",
      "\u001b[?25hCollecting keras<2.9,>=2.8.0rc0 (from tensorflow==2.8.0)\n",
      "  Downloading keras-2.8.0-py2.py3-none-any.whl (1.4 MB)\n",
      "\u001b[2K     \u001b[90m━━━━━━━━━━━━━━━━━━━━━━━━━━━━━━━━━━━━━━━━\u001b[0m \u001b[32m1.4/1.4 MB\u001b[0m \u001b[31m34.8 MB/s\u001b[0m eta \u001b[36m0:00:00\u001b[0m\n",
      "\u001b[?25hRequirement already satisfied: tensorflow-io-gcs-filesystem>=0.23.1 in /usr/local/lib/python3.10/dist-packages (from tensorflow==2.8.0) (0.36.0)\n",
      "Requirement already satisfied: grpcio<2.0,>=1.24.3 in /usr/local/lib/python3.10/dist-packages (from tensorflow==2.8.0) (1.62.1)\n",
      "Requirement already satisfied: wheel<1.0,>=0.23.0 in /usr/local/lib/python3.10/dist-packages (from astunparse>=1.6.0->tensorflow==2.8.0) (0.43.0)\n",
      "Requirement already satisfied: google-auth<3,>=1.6.3 in /usr/local/lib/python3.10/dist-packages (from tensorboard<2.9,>=2.8->tensorflow==2.8.0) (2.27.0)\n",
      "Collecting google-auth-oauthlib<0.5,>=0.4.1 (from tensorboard<2.9,>=2.8->tensorflow==2.8.0)\n",
      "  Downloading google_auth_oauthlib-0.4.6-py2.py3-none-any.whl (18 kB)\n",
      "Requirement already satisfied: markdown>=2.6.8 in /usr/local/lib/python3.10/dist-packages (from tensorboard<2.9,>=2.8->tensorflow==2.8.0) (3.6)\n",
      "Requirement already satisfied: requests<3,>=2.21.0 in /usr/local/lib/python3.10/dist-packages (from tensorboard<2.9,>=2.8->tensorflow==2.8.0) (2.31.0)\n",
      "Collecting tensorboard-data-server<0.7.0,>=0.6.0 (from tensorboard<2.9,>=2.8->tensorflow==2.8.0)\n",
      "  Downloading tensorboard_data_server-0.6.1-py3-none-manylinux2010_x86_64.whl (4.9 MB)\n",
      "\u001b[2K     \u001b[90m━━━━━━━━━━━━━━━━━━━━━━━━━━━━━━━━━━━━━━━━\u001b[0m \u001b[32m4.9/4.9 MB\u001b[0m \u001b[31m24.4 MB/s\u001b[0m eta \u001b[36m0:00:00\u001b[0m\n",
      "\u001b[?25hCollecting tensorboard-plugin-wit>=1.6.0 (from tensorboard<2.9,>=2.8->tensorflow==2.8.0)\n",
      "  Downloading tensorboard_plugin_wit-1.8.1-py3-none-any.whl (781 kB)\n",
      "\u001b[2K     \u001b[90m━━━━━━━━━━━━━━━━━━━━━━━━━━━━━━━━━━━━━━━━\u001b[0m \u001b[32m781.3/781.3 kB\u001b[0m \u001b[31m46.7 MB/s\u001b[0m eta \u001b[36m0:00:00\u001b[0m\n",
      "\u001b[?25hRequirement already satisfied: werkzeug>=0.11.15 in /usr/local/lib/python3.10/dist-packages (from tensorboard<2.9,>=2.8->tensorflow==2.8.0) (3.0.2)\n",
      "Requirement already satisfied: cachetools<6.0,>=2.0.0 in /usr/local/lib/python3.10/dist-packages (from google-auth<3,>=1.6.3->tensorboard<2.9,>=2.8->tensorflow==2.8.0) (5.3.3)\n",
      "Requirement already satisfied: pyasn1-modules>=0.2.1 in /usr/local/lib/python3.10/dist-packages (from google-auth<3,>=1.6.3->tensorboard<2.9,>=2.8->tensorflow==2.8.0) (0.4.0)\n",
      "Requirement already satisfied: rsa<5,>=3.1.4 in /usr/local/lib/python3.10/dist-packages (from google-auth<3,>=1.6.3->tensorboard<2.9,>=2.8->tensorflow==2.8.0) (4.9)\n",
      "Requirement already satisfied: requests-oauthlib>=0.7.0 in /usr/local/lib/python3.10/dist-packages (from google-auth-oauthlib<0.5,>=0.4.1->tensorboard<2.9,>=2.8->tensorflow==2.8.0) (1.3.1)\n",
      "Requirement already satisfied: charset-normalizer<4,>=2 in /usr/local/lib/python3.10/dist-packages (from requests<3,>=2.21.0->tensorboard<2.9,>=2.8->tensorflow==2.8.0) (3.3.2)\n",
      "Requirement already satisfied: idna<4,>=2.5 in /usr/local/lib/python3.10/dist-packages (from requests<3,>=2.21.0->tensorboard<2.9,>=2.8->tensorflow==2.8.0) (3.6)\n",
      "Requirement already satisfied: urllib3<3,>=1.21.1 in /usr/local/lib/python3.10/dist-packages (from requests<3,>=2.21.0->tensorboard<2.9,>=2.8->tensorflow==2.8.0) (2.0.7)\n",
      "Requirement already satisfied: certifi>=2017.4.17 in /usr/local/lib/python3.10/dist-packages (from requests<3,>=2.21.0->tensorboard<2.9,>=2.8->tensorflow==2.8.0) (2024.2.2)\n",
      "Requirement already satisfied: MarkupSafe>=2.1.1 in /usr/local/lib/python3.10/dist-packages (from werkzeug>=0.11.15->tensorboard<2.9,>=2.8->tensorflow==2.8.0) (2.1.5)\n",
      "Requirement already satisfied: pyasn1<0.7.0,>=0.4.6 in /usr/local/lib/python3.10/dist-packages (from pyasn1-modules>=0.2.1->google-auth<3,>=1.6.3->tensorboard<2.9,>=2.8->tensorflow==2.8.0) (0.6.0)\n",
      "Requirement already satisfied: oauthlib>=3.0.0 in /usr/local/lib/python3.10/dist-packages (from requests-oauthlib>=0.7.0->google-auth-oauthlib<0.5,>=0.4.1->tensorboard<2.9,>=2.8->tensorflow==2.8.0) (3.2.2)\n",
      "Installing collected packages: tf-estimator-nightly, tensorboard-plugin-wit, keras, tensorboard-data-server, keras-preprocessing, google-auth-oauthlib, tensorboard, tensorflow\n",
      "  Attempting uninstall: keras\n",
      "    Found existing installation: keras 2.15.0\n",
      "    Uninstalling keras-2.15.0:\n",
      "      Successfully uninstalled keras-2.15.0\n",
      "  Attempting uninstall: tensorboard-data-server\n",
      "    Found existing installation: tensorboard-data-server 0.7.2\n",
      "    Uninstalling tensorboard-data-server-0.7.2:\n",
      "      Successfully uninstalled tensorboard-data-server-0.7.2\n",
      "  Attempting uninstall: google-auth-oauthlib\n",
      "    Found existing installation: google-auth-oauthlib 1.2.0\n",
      "    Uninstalling google-auth-oauthlib-1.2.0:\n",
      "      Successfully uninstalled google-auth-oauthlib-1.2.0\n",
      "  Attempting uninstall: tensorboard\n",
      "    Found existing installation: tensorboard 2.15.2\n",
      "    Uninstalling tensorboard-2.15.2:\n",
      "      Successfully uninstalled tensorboard-2.15.2\n",
      "  Attempting uninstall: tensorflow\n",
      "    Found existing installation: tensorflow 2.15.0\n",
      "    Uninstalling tensorflow-2.15.0:\n",
      "      Successfully uninstalled tensorflow-2.15.0\n",
      "\u001b[31mERROR: pip's dependency resolver does not currently take into account all the packages that are installed. This behaviour is the source of the following dependency conflicts.\n",
      "pandas-gbq 0.19.2 requires google-auth-oauthlib>=0.7.0, but you have google-auth-oauthlib 0.4.6 which is incompatible.\n",
      "tf-keras 2.15.1 requires tensorflow<2.16,>=2.15, but you have tensorflow 2.8.0 which is incompatible.\u001b[0m\u001b[31m\n",
      "\u001b[0mSuccessfully installed google-auth-oauthlib-0.4.6 keras-2.8.0 keras-preprocessing-1.1.2 tensorboard-2.8.0 tensorboard-data-server-0.6.1 tensorboard-plugin-wit-1.8.1 tensorflow-2.8.0 tf-estimator-nightly-2.8.0.dev2021122109\n",
      "Requirement already satisfied: keras==2.8.0 in /usr/local/lib/python3.10/dist-packages (2.8.0)\n",
      "Collecting tensorflow-addons==0.17.0\n",
      "  Downloading tensorflow_addons-0.17.0-cp310-cp310-manylinux_2_17_x86_64.manylinux2014_x86_64.whl (1.1 MB)\n",
      "\u001b[2K     \u001b[90m━━━━━━━━━━━━━━━━━━━━━━━━━━━━━━━━━━━━━━━━\u001b[0m \u001b[32m1.1/1.1 MB\u001b[0m \u001b[31m18.7 MB/s\u001b[0m eta \u001b[36m0:00:00\u001b[0m\n",
      "\u001b[?25hRequirement already satisfied: packaging in /usr/local/lib/python3.10/dist-packages (from tensorflow-addons==0.17.0) (24.0)\n",
      "Collecting typeguard>=2.7 (from tensorflow-addons==0.17.0)\n",
      "  Downloading typeguard-4.2.1-py3-none-any.whl (34 kB)\n",
      "Requirement already satisfied: typing-extensions>=4.10.0 in /usr/local/lib/python3.10/dist-packages (from typeguard>=2.7->tensorflow-addons==0.17.0) (4.10.0)\n",
      "Installing collected packages: typeguard, tensorflow-addons\n",
      "Successfully installed tensorflow-addons-0.17.0 typeguard-4.2.1\n"
     ]
    }
   ],
   "source": [
    "!pip install tensorflow==2.8.0\n",
    "!pip install keras==2.8.0\n",
    "!pip install tensorflow-addons==0.17.0"
   ]
  },
  {
   "cell_type": "markdown",
   "metadata": {
    "id": "LkPzqfDUY6H5"
   },
   "source": [
    "### **Import Library and datasets**"
   ]
  },
  {
   "cell_type": "code",
   "execution_count": null,
   "metadata": {
    "id": "3w6ui5JfEYfE"
   },
   "outputs": [],
   "source": [
    "import numpy as np\n",
    "import tensorflow as tf\n",
    "from tensorflow import keras\n",
    "from tensorflow.keras import layers\n",
    "import tensorflow_addons as tfa\n",
    "import matplotlib.pyplot as plt\n"
   ]
  },
  {
   "cell_type": "code",
   "execution_count": null,
   "metadata": {
    "colab": {
     "base_uri": "https://localhost:8080/"
    },
    "id": "P0goygn6EbtA",
    "outputId": "726b6699-ada7-41cd-b4b4-0bfb91fa6d49"
   },
   "outputs": [
    {
     "name": "stdout",
     "output_type": "stream",
     "text": [
      "Downloading data from https://www.cs.toronto.edu/~kriz/cifar-10-python.tar.gz\n",
      "170500096/170498071 [==============================] - 2s 0us/step\n",
      "170508288/170498071 [==============================] - 2s 0us/step\n",
      "x_train shape:(50000, 32, 32, 3) - y_train shape:(50000, 1)\n",
      "x_test shape:(10000, 32, 32, 3) - y_test shape:(10000, 1)\n"
     ]
    }
   ],
   "source": [
    "num_classes=10\n",
    "input_shape=(32,32,3)\n",
    "\n",
    "(x_train,y_train),(x_test,y_test)=keras.datasets.cifar10.load_data()\n",
    "print(f\"x_train shape:{x_train.shape} - y_train shape:{y_train.shape}\")\n",
    "print(f\"x_test shape:{x_test.shape} - y_test shape:{y_test.shape}\")\n"
   ]
  },
  {
   "cell_type": "code",
   "execution_count": null,
   "metadata": {
    "id": "TAFvHUnpF7Yc"
   },
   "outputs": [],
   "source": [
    "x_train=x_train[:500]\n",
    "y_train=y_train[:500]\n",
    "x_test=x_test[:500]\n",
    "y_test=y_test[:500]"
   ]
  },
  {
   "cell_type": "markdown",
   "metadata": {
    "id": "OwWCeEtJZ29Y"
   },
   "source": [
    "### HYPER PARAMETER DEFINITION"
   ]
  },
  {
   "cell_type": "code",
   "execution_count": null,
   "metadata": {
    "id": "tnooUI2DEfot"
   },
   "outputs": [],
   "source": [
    "learning_rate=0.001\n",
    "weight_decay=0.0001\n",
    "batch_size=256\n",
    "num_epochs=40\n",
    "image_size=72\n",
    "patch_size=6\n",
    "num_patches=(image_size//patch_size)**2\n",
    "projection_dim=64\n",
    "num_heads=4\n",
    "transformer_units=[\n",
    "    projection_dim*2,\n",
    "    projection_dim\n",
    "]\n",
    "transformer_layers=8\n",
    "mlp_head_units=[2048,1024]\n"
   ]
  },
  {
   "cell_type": "markdown",
   "metadata": {
    "id": "GEQwLrLcRdOA"
   },
   "source": [
    "### BUILD VIT CLASSIFIER\n",
    "\n",
    "### DATA AUGMENTATION"
   ]
  },
  {
   "cell_type": "code",
   "execution_count": null,
   "metadata": {
    "id": "OBnNYutoEmfB"
   },
   "outputs": [],
   "source": [
    "data_augmentation=keras.Sequential(\n",
    "    [\n",
    "    layers.Normalization(),\n",
    "    layers.Resizing(image_size,image_size),\n",
    "    layers.RandomFlip(\"horizontal\"),\n",
    "    layers.RandomRotation(factor=0.02),\n",
    "    layers.RandomZoom(\n",
    "        height_factor=0.2,width_factor=0.2)\n",
    "    ],\n",
    "    name=\"data_augmentation\"\n",
    ")\n",
    "data_augmentation.layers[0].adapt(x_train)"
   ]
  },
  {
   "cell_type": "markdown",
   "metadata": {
    "id": "rtpiGeUoSBP1"
   },
   "source": [
    "### MLP ARCHITECTURE"
   ]
  },
  {
   "cell_type": "code",
   "execution_count": null,
   "metadata": {
    "id": "KR0TPCDKEpVg"
   },
   "outputs": [],
   "source": [
    "def mlp(x,hidden_units,dropout_rate):\n",
    "  for units in hidden_units:\n",
    "    x=layers.Dense(units,activation=tf.nn.gelu)(x)\n",
    "    x=layers.Dropout(dropout_rate)(x)\n",
    "  return x"
   ]
  },
  {
   "cell_type": "markdown",
   "metadata": {
    "id": "WUffhlJfSbUA"
   },
   "source": [
    "### PATCHES"
   ]
  },
  {
   "cell_type": "code",
   "execution_count": null,
   "metadata": {
    "id": "mLsPkhh0Es7k"
   },
   "outputs": [],
   "source": [
    "class Patches(layers.Layer):\n",
    "  def __init__(self,patch_size):\n",
    "    super(Patches,self).__init__()\n",
    "    self.patch_size=patch_size\n",
    "\n",
    "  def call(self,images):\n",
    "    batch_size=tf.shape(images)[0]\n",
    "    patches=tf.image.extract_patches(\n",
    "        images=images,\n",
    "        sizes=[1,self.patch_size,self.patch_size,1],\n",
    "        strides=[1,self.patch_size,self.patch_size,1],\n",
    "        rates=[1,1,1,1],\n",
    "        padding=\"VALID\",\n",
    "    )\n",
    "    patch_dims=patches.shape[-1]\n",
    "    patches=tf.reshape(patches,[batch_size,-1,patch_dims])\n",
    "    return patches"
   ]
  },
  {
   "cell_type": "code",
   "execution_count": null,
   "metadata": {
    "colab": {
     "base_uri": "https://localhost:8080/",
     "height": 742
    },
    "id": "AWqC2yyqEyWH",
    "outputId": "ec1796af-8f1b-46da-d472-f608887d4242"
   },
   "outputs": [
    {
     "name": "stdout",
     "output_type": "stream",
     "text": [
      "Image size: 72 X 72\n",
      "Patch size: 6 X 6\n",
      "Patches per image: 144\n",
      "Elements per patch: 108\n"
     ]
    },
    {
     "data": {
      "image/png": "[encoded data removed]",
      "text/plain": [
       "<Figure size 400x400 with 1 Axes>"
      ]
     },
     "metadata": {},
     "output_type": "display_data"
    },
    {
     "data": {
      "image/png": "[encoded data removed]",
      "text/plain": [
       "<Figure size 400x400 with 144 Axes>"
      ]
     },
     "metadata": {},
     "output_type": "display_data"
    }
   ],
   "source": [
    "plt.figure(figsize=(4,4))\n",
    "image=x_train[np.random.choice(range(x_train.shape[0]))]\n",
    "plt.imshow(image.astype(\"uint8\"))\n",
    "plt.axis(\"off\")\n",
    "\n",
    "resized_image=tf.image.resize(\n",
    "    tf.convert_to_tensor([image]),size=(image_size,image_size)\n",
    ")\n",
    "patches = Patches(patch_size)(resized_image)\n",
    "print(f\"Image size: {image_size} X {image_size}\")\n",
    "print(f\"Patch size: {patch_size} X {patch_size}\")\n",
    "print(f\"Patches per image: {patches.shape[1]}\")\n",
    "print(f\"Elements per patch: {patches.shape[-1]}\")\n",
    "\n",
    "n=int(np.sqrt(patches.shape[1]))\n",
    "plt.figure(figsize=(4,4))\n",
    "for i,patch in enumerate(patches[0]):\n",
    "  ax=plt.subplot(n,n,i+1)\n",
    "  patch_img=tf.reshape(patch,(patch_size,patch_size,3))\n",
    "  plt.imshow(patch_img.numpy().astype(\"uint8\"))\n",
    "  plt.axis(\"off\")"
   ]
  },
  {
   "cell_type": "code",
   "execution_count": null,
   "metadata": {
    "id": "4G_DILb3E05s"
   },
   "outputs": [],
   "source": [
    "class PatchEncoder(layers.Layer):\n",
    "  def __init__(self,num_patches,projection_dim):\n",
    "    super(PatchEncoder,self).__init__()\n",
    "    self.num_patches=num_patches\n",
    "    self.projection=layers.Dense(units=projection_dim)\n",
    "    self.position_embedding=layers.Embedding(\n",
    "        input_dim=num_patches,output_dim=projection_dim\n",
    "    )\n",
    "  def call(self,patch):\n",
    "    positions=tf.range(start=0,limit=self.num_patches,delta=1)\n",
    "    encoded=self.projection(patch)+self.position_embedding(positions)\n",
    "    return encoded\n"
   ]
  },
  {
   "cell_type": "code",
   "execution_count": null,
   "metadata": {
    "id": "9iX6pEmME8dH"
   },
   "outputs": [],
   "source": [
    "def create_vit_classifier():\n",
    "  inputs=layers.Input(shape=input_shape)\n",
    "  augmented= data_augmentation(inputs)\n",
    "  patches=Patches(patch_size)(augmented)\n",
    "  encoded_patches=PatchEncoder(num_patches,projection_dim)(patches)\n",
    "  for _ in range(transformer_layers):\n",
    "    x1=layers.LayerNormalization(epsilon=1e-6)(encoded_patches)\n",
    "    attention_output=layers.MultiHeadAttention(\n",
    "        num_heads=num_heads,key_dim=projection_dim,dropout=0.1\n",
    "    )(x1,x1)\n",
    "    x2=layers.Add()([attention_output,encoded_patches])\n",
    "    x3=layers.LayerNormalization(epsilon=1e-6)(x2)\n",
    "    x3=mlp(x3,hidden_units=transformer_units,dropout_rate=0.1)\n",
    "    encoded_patches=layers.Add()([x3,x2])\n",
    "  representation=layers.LayerNormalization(epsilon=1e-6)(encoded_patches)\n",
    "  representation=layers.Flatten()(representation)\n",
    "  representation=layers.Dropout(0.5)(representation)\n",
    "  features=mlp(representation,hidden_units=mlp_head_units,dropout_rate=0.5)\n",
    "  logits=layers.Dense(num_classes)(features)\n",
    "  model=keras.Model(inputs=inputs,outputs=logits)\n",
    "  return model\n"
   ]
  },
  {
   "cell_type": "code",
   "execution_count": null,
   "metadata": {
    "id": "8NjoX-wtE_EB"
   },
   "outputs": [],
   "source": [
    "def run_experiment(model):\n",
    "  optimizer=tfa.optimizers.AdamW(\n",
    "      learning_rate=learning_rate,weight_decay=weight_decay)\n",
    "  model.compile(\n",
    "      optimizer=optimizer,\n",
    "      loss=keras.losses.SparseCategoricalCrossentropy(from_logits=True),\n",
    "      metrics=[keras.metrics.SparseCategoricalAccuracy(name=\"accuracy\"),keras.metrics.SparseTopKCategoricalAccuracy(5,name=\"top_5_accuracy\"),])\n",
    "  checkpoint_filepath=\"./tmp/checkpoint\"\n",
    "  checkpoint_callback=keras.callbacks.ModelCheckpoint(checkpoint_filepath,monitor=\"val_accuracy\",save_best_only=True,save_weights_only=True, )\n",
    "  history=model.fit(\n",
    "      x=x_train,\n",
    "      y=y_train,\n",
    "      batch_size=batch_size,\n",
    "      epochs=num_epochs,\n",
    "      validation_split=0.1,\n",
    "      callbacks=[checkpoint_callback],\n",
    "  )\n",
    "\n",
    "  model.load_weights(checkpoint_filepath)\n",
    "  _, accuracy, top_5_accuracy=model.evaluate(x_test,y_test)\n",
    "  print(f\"Test accuracy: {round(accuracy*100,2)}%\")\n",
    "  print(f\"Test Top 5 accuracy:{round(top_5_accuracy*100,2)}%\")"
   ]
  },
  {
   "cell_type": "code",
   "execution_count": null,
   "metadata": {
    "colab": {
     "base_uri": "https://localhost:8080/"
    },
    "id": "_m5ziOwlFEzF",
    "outputId": "51ae5419-4921-4d27-9c27-d1dd3533412b"
   },
   "outputs": [
    {
     "name": "stdout",
     "output_type": "stream",
     "text": [
      "Epoch 1/40\n",
      "2/2 [==============================] - 51s 18s/step - loss: 5.5674 - accuracy: 0.1222 - top_5_accuracy: 0.5911 - val_loss: 4.0679 - val_accuracy: 0.3000 - val_top_5_accuracy: 0.6600\n",
      "Epoch 2/40\n",
      "2/2 [==============================] - 31s 13s/step - loss: 5.8669 - accuracy: 0.2156 - top_5_accuracy: 0.5978 - val_loss: 3.0980 - val_accuracy: 0.1600 - val_top_5_accuracy: 0.6600\n",
      "Epoch 3/40\n",
      "2/2 [==============================] - 31s 14s/step - loss: 3.7784 - accuracy: 0.2067 - top_5_accuracy: 0.6733 - val_loss: 1.9966 - val_accuracy: 0.2600 - val_top_5_accuracy: 0.8200\n",
      "Epoch 4/40\n",
      "2/2 [==============================] - 38s 19s/step - loss: 2.7284 - accuracy: 0.2400 - top_5_accuracy: 0.7489 - val_loss: 1.9587 - val_accuracy: 0.3400 - val_top_5_accuracy: 0.8200\n",
      "Epoch 5/40\n",
      "2/2 [==============================] - 38s 15s/step - loss: 2.6797 - accuracy: 0.2667 - top_5_accuracy: 0.7511 - val_loss: 1.9123 - val_accuracy: 0.2600 - val_top_5_accuracy: 0.8400\n",
      "Epoch 6/40\n",
      "2/2 [==============================] - 31s 14s/step - loss: 2.2687 - accuracy: 0.3267 - top_5_accuracy: 0.7911 - val_loss: 1.9880 - val_accuracy: 0.2400 - val_top_5_accuracy: 0.7800\n",
      "Epoch 7/40\n",
      "2/2 [==============================] - 30s 13s/step - loss: 2.1835 - accuracy: 0.3111 - top_5_accuracy: 0.7911 - val_loss: 1.9197 - val_accuracy: 0.2400 - val_top_5_accuracy: 0.7600\n",
      "Epoch 8/40\n",
      "2/2 [==============================] - 32s 15s/step - loss: 2.1609 - accuracy: 0.3289 - top_5_accuracy: 0.7956 - val_loss: 1.9183 - val_accuracy: 0.2200 - val_top_5_accuracy: 0.7800\n",
      "Epoch 9/40\n",
      "2/2 [==============================] - 30s 13s/step - loss: 2.0624 - accuracy: 0.3422 - top_5_accuracy: 0.8311 - val_loss: 1.9626 - val_accuracy: 0.2400 - val_top_5_accuracy: 0.8000\n",
      "Epoch 10/40\n",
      "2/2 [==============================] - 29s 13s/step - loss: 1.9227 - accuracy: 0.3867 - top_5_accuracy: 0.8222 - val_loss: 1.9818 - val_accuracy: 0.1800 - val_top_5_accuracy: 0.7000\n",
      "Epoch 11/40\n",
      "2/2 [==============================] - 29s 12s/step - loss: 1.9194 - accuracy: 0.3489 - top_5_accuracy: 0.8511 - val_loss: 1.9474 - val_accuracy: 0.1000 - val_top_5_accuracy: 0.7800\n",
      "Epoch 12/40\n",
      "2/2 [==============================] - 36s 19s/step - loss: 1.7250 - accuracy: 0.4178 - top_5_accuracy: 0.8667 - val_loss: 1.8986 - val_accuracy: 0.1400 - val_top_5_accuracy: 0.8000\n",
      "Epoch 13/40\n",
      "2/2 [==============================] - 32s 13s/step - loss: 1.7823 - accuracy: 0.4089 - top_5_accuracy: 0.8933 - val_loss: 1.8896 - val_accuracy: 0.2000 - val_top_5_accuracy: 0.8200\n",
      "Epoch 14/40\n",
      "2/2 [==============================] - 33s 13s/step - loss: 1.5879 - accuracy: 0.4778 - top_5_accuracy: 0.8978 - val_loss: 1.9270 - val_accuracy: 0.1600 - val_top_5_accuracy: 0.7800\n",
      "Epoch 15/40\n",
      "2/2 [==============================] - 31s 14s/step - loss: 1.6782 - accuracy: 0.4178 - top_5_accuracy: 0.9156 - val_loss: 1.9307 - val_accuracy: 0.2400 - val_top_5_accuracy: 0.8000\n",
      "Epoch 16/40\n",
      "2/2 [==============================] - 31s 13s/step - loss: 1.6025 - accuracy: 0.4644 - top_5_accuracy: 0.8978 - val_loss: 1.8701 - val_accuracy: 0.2200 - val_top_5_accuracy: 0.8400\n",
      "Epoch 17/40\n",
      "2/2 [==============================] - 29s 13s/step - loss: 1.5673 - accuracy: 0.4756 - top_5_accuracy: 0.9244 - val_loss: 1.7705 - val_accuracy: 0.2800 - val_top_5_accuracy: 0.8800\n",
      "Epoch 18/40\n",
      "2/2 [==============================] - 36s 19s/step - loss: 1.4457 - accuracy: 0.5067 - top_5_accuracy: 0.9311 - val_loss: 1.7521 - val_accuracy: 0.3800 - val_top_5_accuracy: 0.8400\n",
      "Epoch 19/40\n",
      "2/2 [==============================] - 32s 14s/step - loss: 1.3850 - accuracy: 0.5289 - top_5_accuracy: 0.9111 - val_loss: 1.7662 - val_accuracy: 0.2800 - val_top_5_accuracy: 0.8400\n",
      "Epoch 20/40\n",
      "2/2 [==============================] - 30s 13s/step - loss: 1.3163 - accuracy: 0.5622 - top_5_accuracy: 0.9289 - val_loss: 1.8071 - val_accuracy: 0.2800 - val_top_5_accuracy: 0.8400\n",
      "Epoch 21/40\n",
      "2/2 [==============================] - 31s 13s/step - loss: 1.3344 - accuracy: 0.5333 - top_5_accuracy: 0.9333 - val_loss: 1.8363 - val_accuracy: 0.3000 - val_top_5_accuracy: 0.8600\n",
      "Epoch 22/40\n",
      "2/2 [==============================] - 30s 13s/step - loss: 1.2354 - accuracy: 0.5444 - top_5_accuracy: 0.9444 - val_loss: 1.9096 - val_accuracy: 0.3000 - val_top_5_accuracy: 0.8200\n",
      "Epoch 23/40\n",
      "2/2 [==============================] - 32s 13s/step - loss: 1.2657 - accuracy: 0.5511 - top_5_accuracy: 0.9556 - val_loss: 1.9736 - val_accuracy: 0.2600 - val_top_5_accuracy: 0.7800\n",
      "Epoch 24/40\n",
      "2/2 [==============================] - 29s 12s/step - loss: 1.2518 - accuracy: 0.5889 - top_5_accuracy: 0.9556 - val_loss: 1.9416 - val_accuracy: 0.3200 - val_top_5_accuracy: 0.8000\n",
      "Epoch 25/40\n",
      "2/2 [==============================] - 30s 12s/step - loss: 1.1683 - accuracy: 0.5933 - top_5_accuracy: 0.9556 - val_loss: 2.0055 - val_accuracy: 0.3200 - val_top_5_accuracy: 0.8200\n",
      "Epoch 26/40\n",
      "2/2 [==============================] - 31s 14s/step - loss: 1.1897 - accuracy: 0.5778 - top_5_accuracy: 0.9711 - val_loss: 2.0663 - val_accuracy: 0.3000 - val_top_5_accuracy: 0.8400\n",
      "Epoch 27/40\n",
      "2/2 [==============================] - 31s 13s/step - loss: 1.0511 - accuracy: 0.6178 - top_5_accuracy: 0.9711 - val_loss: 2.0676 - val_accuracy: 0.3000 - val_top_5_accuracy: 0.8000\n",
      "Epoch 28/40\n",
      "2/2 [==============================] - 31s 13s/step - loss: 1.0116 - accuracy: 0.6356 - top_5_accuracy: 0.9778 - val_loss: 2.1175 - val_accuracy: 0.3400 - val_top_5_accuracy: 0.8000\n",
      "Epoch 29/40\n",
      "2/2 [==============================] - 31s 13s/step - loss: 1.0114 - accuracy: 0.6644 - top_5_accuracy: 0.9667 - val_loss: 2.1724 - val_accuracy: 0.3600 - val_top_5_accuracy: 0.8000\n",
      "Epoch 30/40\n",
      "2/2 [==============================] - 31s 14s/step - loss: 0.9224 - accuracy: 0.6689 - top_5_accuracy: 0.9733 - val_loss: 2.2122 - val_accuracy: 0.3400 - val_top_5_accuracy: 0.8400\n",
      "Epoch 31/40\n",
      "2/2 [==============================] - 31s 13s/step - loss: 0.9494 - accuracy: 0.6511 - top_5_accuracy: 0.9800 - val_loss: 2.1907 - val_accuracy: 0.3600 - val_top_5_accuracy: 0.8000\n",
      "Epoch 32/40\n",
      "2/2 [==============================] - 43s 14s/step - loss: 0.9016 - accuracy: 0.6756 - top_5_accuracy: 0.9844 - val_loss: 2.2060 - val_accuracy: 0.3200 - val_top_5_accuracy: 0.7600\n",
      "Epoch 33/40\n",
      "2/2 [==============================] - 31s 13s/step - loss: 0.8777 - accuracy: 0.6756 - top_5_accuracy: 0.9889 - val_loss: 2.2151 - val_accuracy: 0.3200 - val_top_5_accuracy: 0.7800\n",
      "Epoch 34/40\n",
      "2/2 [==============================] - 32s 14s/step - loss: 0.9237 - accuracy: 0.6800 - top_5_accuracy: 0.9689 - val_loss: 2.1867 - val_accuracy: 0.3000 - val_top_5_accuracy: 0.8600\n",
      "Epoch 35/40\n",
      "2/2 [==============================] - 32s 14s/step - loss: 0.7885 - accuracy: 0.7311 - top_5_accuracy: 0.9844 - val_loss: 2.2479 - val_accuracy: 0.2800 - val_top_5_accuracy: 0.9000\n",
      "Epoch 36/40\n",
      "2/2 [==============================] - 31s 13s/step - loss: 0.7532 - accuracy: 0.7289 - top_5_accuracy: 0.9956 - val_loss: 2.4005 - val_accuracy: 0.3000 - val_top_5_accuracy: 0.8800\n",
      "Epoch 37/40\n",
      "2/2 [==============================] - 31s 14s/step - loss: 0.6860 - accuracy: 0.7622 - top_5_accuracy: 0.9911 - val_loss: 2.5197 - val_accuracy: 0.3000 - val_top_5_accuracy: 0.8400\n",
      "Epoch 38/40\n",
      "2/2 [==============================] - 31s 13s/step - loss: 0.7131 - accuracy: 0.7578 - top_5_accuracy: 0.9956 - val_loss: 2.4236 - val_accuracy: 0.3000 - val_top_5_accuracy: 0.9000\n",
      "Epoch 39/40\n",
      "2/2 [==============================] - 31s 13s/step - loss: 0.7077 - accuracy: 0.7267 - top_5_accuracy: 0.9911 - val_loss: 2.4032 - val_accuracy: 0.3000 - val_top_5_accuracy: 0.8600\n",
      "Epoch 40/40\n",
      "2/2 [==============================] - 32s 14s/step - loss: 0.6933 - accuracy: 0.7533 - top_5_accuracy: 0.9911 - val_loss: 2.5938 - val_accuracy: 0.2800 - val_top_5_accuracy: 0.8200\n",
      "16/16 [==============================] - 9s 520ms/step - loss: 1.9239 - accuracy: 0.3180 - top_5_accuracy: 0.8320\n",
      "Test accuracy: 31.8%\n",
      "Test Top 5 accuracy:83.2%\n"
     ]
    }
   ],
   "source": [
    "vit_classifier=create_vit_classifier()\n",
    "history=run_experiment(vit_classifier)"
   ]
  },
  {
   "cell_type": "code",
   "execution_count": null,
   "metadata": {
    "id": "jd7-Sm2bG_Mx"
   },
   "outputs": [],
   "source": [
    "class_names=[\n",
    "    'airplane',\n",
    "    'automobile',\n",
    "    'bird',\n",
    "    'deer',\n",
    "    'cat',\n",
    "    'dog',\n",
    "    'frog',\n",
    "    'horse',\n",
    "    'ship',\n",
    "    'truck'\n",
    "]"
   ]
  },
  {
   "cell_type": "code",
   "execution_count": null,
   "metadata": {
    "id": "brsp5vcBNFQW"
   },
   "outputs": [],
   "source": [
    "def img_predict(images,model):\n",
    "  if len(images.shape)==3:\n",
    "    out=model.predict(images.reshape(-1,*images.shape))\n",
    "  else:\n",
    "    out=model.predict(images)\n",
    "  prediction=np.argmax(out,axis=1)\n",
    "  img_prediction=[class_names[i]for i in prediction]\n",
    "  return img_prediction"
   ]
  },
  {
   "cell_type": "code",
   "execution_count": null,
   "metadata": {
    "colab": {
     "base_uri": "https://localhost:8080/",
     "height": 447
    },
    "id": "J7IYVrixOL2e",
    "outputId": "882bb651-26f0-4927-d5c1-a5842af59c25"
   },
   "outputs": [
    {
     "name": "stdout",
     "output_type": "stream",
     "text": [
      "['automobile']\n"
     ]
    },
    {
     "data": {
      "image/png": "[encoded data removed]",
      "text/plain": [
       "<Figure size 640x480 with 1 Axes>"
      ]
     },
     "metadata": {},
     "output_type": "display_data"
    }
   ],
   "source": [
    "index=14\n",
    "plt.imshow(x_test[index])\n",
    "prediction=img_predict(x_test[index],vit_classifier)\n",
    "print(prediction)"
   ]
  },
  {
   "cell_type": "code",
   "execution_count": null,
   "metadata": {
    "id": "B30cnvKxOjuK"
   },
   "outputs": [],
   "source": []
  },
  {
   "cell_type": "code",
   "execution_count": null,
   "metadata": {
    "id": "3n9u8TZKXV31"
   },
   "outputs": [],
   "source": []
  }
 ],
 "metadata": {
  "colab": {
   "provenance": []
  },
  "kernelspec": {
   "display_name": "Python 3 (ipykernel)",
   "language": "python",
   "name": "python3"
  },
  "language_info": {
   "codemirror_mode": {
    "name": "ipython",
    "version": 3
   },
   "file_extension": ".py",
   "mimetype": "text/x-python",
   "name": "python",
   "nbconvert_exporter": "python",
   "pygments_lexer": "ipython3",
   "version": "3.12.2"
  }
 },
 "nbformat": 4,
 "nbformat_minor": 4
}
